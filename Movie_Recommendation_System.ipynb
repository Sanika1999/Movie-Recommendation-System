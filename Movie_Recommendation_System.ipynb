{
  "nbformat": 4,
  "nbformat_minor": 0,
  "metadata": {
    "colab": {
      "name": "Movie_Recommendation_System.ipynb",
      "provenance": [],
      "collapsed_sections": []
    },
    "kernelspec": {
      "name": "python3",
      "display_name": "Python 3"
    }
  },
  "cells": [
    {
      "cell_type": "markdown",
      "metadata": {
        "id": "iN7Wx9lU6qwa"
      },
      "source": [
        "# Movie Recommendation System\n",
        "\n",
        "\n",
        "During the last few decades, with the rise of Youtube, Amazon, Netflix and many other such web services, recommender systems have taken more and more place in our lives. From e-commerce (suggest to buyers articles that could interest them) to online advertisement (suggest to users the right contents, matching their preferences), recommender systems are today unavoidable in our daily online journeys.\n",
        "In a very general way, recommender systems are algorithms aimed at suggesting relevant items to users (items being movies to watch, text to read, products to buy or anything else depending on industries).\n",
        "Recommender systems are really critical in some industries as they can generate a huge amount of income when they are efficient or also be a way to stand out significantly from competitors.\n",
        "This is a movie recommenation system using coorelations."
      ]
    },
    {
      "cell_type": "markdown",
      "metadata": {
        "id": "-K3_67nNMe_u"
      },
      "source": [
        "Importing Libraries"
      ]
    },
    {
      "cell_type": "markdown",
      "metadata": {
        "id": "kttQfuUI6p4F"
      },
      "source": [
        ""
      ]
    },
    {
      "cell_type": "code",
      "metadata": {
        "id": "RX5K0KEmB_gh"
      },
      "source": [
        "import numpy as np\n",
        "import pandas as pd"
      ],
      "execution_count": null,
      "outputs": []
    },
    {
      "cell_type": "markdown",
      "metadata": {
        "id": "KAlHnh4wMjx5"
      },
      "source": [
        "Import Data\n"
      ]
    },
    {
      "cell_type": "code",
      "metadata": {
        "id": "UooBIwuvMn3Q",
        "outputId": "b661a492-98a9-4e1e-c1d7-d768e6cab2a3",
        "colab": {
          "base_uri": "https://localhost:8080/",
          "height": 204
        }
      },
      "source": [
        "ratings=pd.read_csv('rating.csv')\n",
        "print(ratings.head(10))\n"
      ],
      "execution_count": null,
      "outputs": [
        {
          "output_type": "stream",
          "text": [
            "   userId  movieId  rating            timestamp\n",
            "0       1        2     3.5  2005-04-02 23:53:47\n",
            "1       1       29     3.5  2005-04-02 23:31:16\n",
            "2       1       32     3.5  2005-04-02 23:33:39\n",
            "3       1       47     3.5  2005-04-02 23:32:07\n",
            "4       1       50     3.5  2005-04-02 23:29:40\n",
            "5       1      112     3.5  2004-09-10 03:09:00\n",
            "6       1      151     4.0  2004-09-10 03:08:54\n",
            "7       1      223     4.0  2005-04-02 23:46:13\n",
            "8       1      253     4.0  2005-04-02 23:35:40\n",
            "9       1      260     4.0  2005-04-02 23:33:46\n"
          ],
          "name": "stdout"
        }
      ]
    },
    {
      "cell_type": "code",
      "metadata": {
        "id": "HASQrI-qNCOz",
        "outputId": "3b260163-664a-4ee0-aa40-5e7b17d1ddc6",
        "colab": {
          "base_uri": "https://localhost:8080/",
          "height": 119
        }
      },
      "source": [
        "movie_titles=pd.read_csv('movie.csv')\n",
        "print(movie_titles.head())"
      ],
      "execution_count": null,
      "outputs": [
        {
          "output_type": "stream",
          "text": [
            "   movieId                               title\n",
            "0        1                    Toy Story (1995)\n",
            "1        2                      Jumanji (1995)\n",
            "2        3             Grumpier Old Men (1995)\n",
            "3        4            Waiting to Exhale (1995)\n",
            "4        5  Father of the Bride Part II (1995)\n"
          ],
          "name": "stdout"
        }
      ]
    },
    {
      "cell_type": "code",
      "metadata": {
        "id": "sYpgUp2FOEmN",
        "outputId": "2a0c8115-4716-4512-cf07-1919c86b929b",
        "colab": {
          "base_uri": "https://localhost:8080/",
          "height": 119
        }
      },
      "source": [
        "#merging ratings and movie titles\n",
        "data=pd.merge(ratings,movie_titles,on='movieId')\n",
        "print(data.head())"
      ],
      "execution_count": null,
      "outputs": [
        {
          "output_type": "stream",
          "text": [
            "   userId  movieId  rating            timestamp           title\n",
            "0       1        2     3.5  2005-04-02 23:53:47  Jumanji (1995)\n",
            "1       5        2     3.0  1996-12-25 15:26:09  Jumanji (1995)\n",
            "2      13        2     3.0  1996-11-27 08:19:02  Jumanji (1995)\n",
            "3      29        2     3.0  1996-06-23 20:36:14  Jumanji (1995)\n",
            "4      34        2     3.0  1996-10-28 13:29:44  Jumanji (1995)\n"
          ],
          "name": "stdout"
        }
      ]
    },
    {
      "cell_type": "markdown",
      "metadata": {
        "id": "oLeb1r3BOQ5e"
      },
      "source": [
        "Visualizing Data"
      ]
    },
    {
      "cell_type": "code",
      "metadata": {
        "id": "3gUkX7ndOU7r"
      },
      "source": [
        "import matplotlib.pyplot as plt\n",
        "import seaborn as sns\n",
        "sns.set_style('white')\n"
      ],
      "execution_count": null,
      "outputs": []
    },
    {
      "cell_type": "markdown",
      "metadata": {
        "id": "kwkVhKwaOuqo"
      },
      "source": [
        "Creating a ratings dataframe with average rating and number of ratings"
      ]
    },
    {
      "cell_type": "code",
      "metadata": {
        "id": "VWgJ-Ga3O5WG",
        "outputId": "fe224711-259f-42b0-d773-4d3294c8f873",
        "colab": {
          "base_uri": "https://localhost:8080/",
          "height": 136
        }
      },
      "source": [
        "data.groupby('title')['rating'].mean().sort_values(ascending=False).head()"
      ],
      "execution_count": null,
      "outputs": [
        {
          "output_type": "execute_result",
          "data": {
            "text/plain": [
              "title\n",
              "Slingshot Hip Hop (2008)                 5.0\n",
              "Ten Minutes Older: The Trumpet (2002)    5.0\n",
              "Art of War II: Betrayal, The (2008)      5.0\n",
              "Kumail Nanjiani: Beta Male (2013)        5.0\n",
              "Tripping the Rift: The Movie (2008)      5.0\n",
              "Name: rating, dtype: float64"
            ]
          },
          "metadata": {
            "tags": []
          },
          "execution_count": 76
        }
      ]
    },
    {
      "cell_type": "code",
      "metadata": {
        "id": "Oa193eygPYvC",
        "outputId": "bf4da701-87fe-4ddc-bbda-fe28872c89e5",
        "colab": {
          "base_uri": "https://localhost:8080/",
          "height": 136
        }
      },
      "source": [
        "data.groupby('title')['rating'].count().sort_values(ascending=False).head()"
      ],
      "execution_count": null,
      "outputs": [
        {
          "output_type": "execute_result",
          "data": {
            "text/plain": [
              "title\n",
              "Pulp Fiction (1994)                 12090\n",
              "Forrest Gump (1994)                 11950\n",
              "Shawshank Redemption, The (1994)    11372\n",
              "Silence of the Lambs, The (1991)    11294\n",
              "Jurassic Park (1993)                10751\n",
              "Name: rating, dtype: int64"
            ]
          },
          "metadata": {
            "tags": []
          },
          "execution_count": 77
        }
      ]
    },
    {
      "cell_type": "markdown",
      "metadata": {
        "id": "zeUdxIpak8-4"
      },
      "source": [
        "Mean rating of movies not in ascending order"
      ]
    },
    {
      "cell_type": "code",
      "metadata": {
        "id": "6EFvGQ--j_SB",
        "outputId": "e9f046b9-3ce3-415b-aace-d74ae47b6fc2",
        "colab": {
          "base_uri": "https://localhost:8080/",
          "height": 221
        }
      },
      "source": [
        "ratings=pd.DataFrame(data.groupby('title')['rating'].mean())\n",
        "print(ratings.head(10))"
      ],
      "execution_count": null,
      "outputs": [
        {
          "output_type": "stream",
          "text": [
            "                                           rating\n",
            "title                                            \n",
            "$ (Dollars) (1971)                       3.166667\n",
            "$5 a Day (2008)                          2.461538\n",
            "$9.99 (2008)                             3.400000\n",
            "'71 (2014)                               3.333333\n",
            "'Hellboy': The Seeds of Creation (2004)  2.750000\n",
            "'Neath the Arizona Skies (1934)          2.357143\n",
            "'R Xmas (2001)                           2.571429\n",
            "'Round Midnight (1986)                   3.620690\n",
            "'Salem's Lot (2004)                      3.050000\n",
            "'Til There Was You (1997)                2.813636\n"
          ],
          "name": "stdout"
        }
      ]
    },
    {
      "cell_type": "markdown",
      "metadata": {
        "id": "1ZhODDEelIcc"
      },
      "source": [
        "Merging no of ratings and mean rating"
      ]
    },
    {
      "cell_type": "code",
      "metadata": {
        "id": "0UBOdnQ9lTJ0",
        "outputId": "3fe7e02e-6515-400d-8e2b-7285b7be3463",
        "colab": {
          "base_uri": "https://localhost:8080/",
          "height": 221
        }
      },
      "source": [
        "ratings['no. of ratings']=pd.DataFrame(data.groupby('title')['rating'].count())\n",
        "print(ratings.head(10))"
      ],
      "execution_count": null,
      "outputs": [
        {
          "output_type": "stream",
          "text": [
            "                                           rating  no. of ratings\n",
            "title                                                            \n",
            "$ (Dollars) (1971)                       3.166667               3\n",
            "$5 a Day (2008)                          2.461538              13\n",
            "$9.99 (2008)                             3.400000               5\n",
            "'71 (2014)                               3.333333               9\n",
            "'Hellboy': The Seeds of Creation (2004)  2.750000              12\n",
            "'Neath the Arizona Skies (1934)          2.357143               7\n",
            "'R Xmas (2001)                           2.571429               7\n",
            "'Round Midnight (1986)                   3.620690              29\n",
            "'Salem's Lot (2004)                      3.050000              30\n",
            "'Til There Was You (1997)                2.813636             110\n"
          ],
          "name": "stdout"
        }
      ]
    },
    {
      "cell_type": "markdown",
      "metadata": {
        "id": "LSLm1DK3l01X"
      },
      "source": [
        "Histogram for number of ratings"
      ]
    },
    {
      "cell_type": "code",
      "metadata": {
        "id": "_QSPyyrrl44h",
        "outputId": "a3782619-6f23-4dc3-d1ff-2b9d4f1fd600",
        "colab": {
          "base_uri": "https://localhost:8080/",
          "height": 337
        }
      },
      "source": [
        "plt.figure(figsize=(10,5))\n",
        "ratings['no. of ratings'].hist(bins=50)"
      ],
      "execution_count": null,
      "outputs": [
        {
          "output_type": "execute_result",
          "data": {
            "text/plain": [
              "<matplotlib.axes._subplots.AxesSubplot at 0x7f1ffea8d550>"
            ]
          },
          "metadata": {
            "tags": []
          },
          "execution_count": 80
        },
        {
          "output_type": "display_data",
          "data": {
            "image/png": "[encoded data removed]",
            "text/plain": [
              "<Figure size 720x360 with 1 Axes>"
            ]
          },
          "metadata": {
            "tags": []
          }
        }
      ]
    },
    {
      "cell_type": "markdown",
      "metadata": {
        "id": "iOIQWHG_nIkX"
      },
      "source": [
        "Histogram for ratings"
      ]
    },
    {
      "cell_type": "code",
      "metadata": {
        "id": "BhQKa7gGnPJ0",
        "outputId": "fe443684-2fae-4c06-a4a4-25aaa38313c8",
        "colab": {
          "base_uri": "https://localhost:8080/",
          "height": 337
        }
      },
      "source": [
        "plt.figure(figsize=(10,5))\n",
        "ratings['rating'].hist(bins=50)"
      ],
      "execution_count": null,
      "outputs": [
        {
          "output_type": "execute_result",
          "data": {
            "text/plain": [
              "<matplotlib.axes._subplots.AxesSubplot at 0x7f1ffecce4a8>"
            ]
          },
          "metadata": {
            "tags": []
          },
          "execution_count": 81
        },
        {
          "output_type": "display_data",
          "data": {
            "image/png": "[encoded data removed]",
            "text/plain": [
              "<Figure size 720x360 with 1 Axes>"
            ]
          },
          "metadata": {
            "tags": []
          }
        }
      ]
    },
    {
      "cell_type": "markdown",
      "metadata": {
        "id": "WrMuH98pnlic"
      },
      "source": [
        "##Recommending Movies"
      ]
    },
    {
      "cell_type": "markdown",
      "metadata": {
        "id": "LVoIvk1OoBU6"
      },
      "source": [
        "Creating a matrix of userid and movie title each cell has ratings user gave to that movie"
      ]
    },
    {
      "cell_type": "code",
      "metadata": {
        "id": "fj_Q-m5ME5os"
      },
      "source": [
        "#movie_matrix=data.groupby(['userId', 'title'])['rating'].min().to_frame()\n",
        "#movie_matrix.head()"
      ],
      "execution_count": null,
      "outputs": []
    },
    {
      "cell_type": "code",
      "metadata": {
        "id": "gOxB7mdBnk5x",
        "outputId": "edb8ab76-7612-46f3-adac-1e368c7c60d4",
        "colab": {
          "base_uri": "https://localhost:8080/",
          "height": 505
        }
      },
      "source": [
        "movie_matrix=data.pivot_table(index='userId',columns='title',values='rating')\n",
        "movie_matrix.head()"
      ],
      "execution_count": null,
      "outputs": [
        {
          "output_type": "execute_result",
          "data": {
            "text/html": [
              "<div>\n",
              "<style scoped>\n",
              "    .dataframe tbody tr th:only-of-type {\n",
              "        vertical-align: middle;\n",
              "    }\n",
              "\n",
              "    .dataframe tbody tr th {\n",
              "        vertical-align: top;\n",
              "    }\n",
              "\n",
              "    .dataframe thead th {\n",
              "        text-align: right;\n",
              "    }\n",
              "</style>\n",
              "<table border=\"1\" class=\"dataframe\">\n",
              "  <thead>\n",
              "    <tr style=\"text-align: right;\">\n",
              "      <th>title</th>\n",
              "      <th>$ (Dollars) (1971)</th>\n",
              "      <th>$5 a Day (2008)</th>\n",
              "      <th>$9.99 (2008)</th>\n",
              "      <th>'71 (2014)</th>\n",
              "      <th>'Hellboy': The Seeds of Creation (2004)</th>\n",
              "      <th>'Neath the Arizona Skies (1934)</th>\n",
              "      <th>'R Xmas (2001)</th>\n",
              "      <th>'Round Midnight (1986)</th>\n",
              "      <th>'Salem's Lot (2004)</th>\n",
              "      <th>'Til There Was You (1997)</th>\n",
              "      <th>'burbs, The (1989)</th>\n",
              "      <th>'night Mother (1986)</th>\n",
              "      <th>(500) Days of Summer (2009)</th>\n",
              "      <th>(Untitled) (2009)</th>\n",
              "      <th>*batteries not included (1987)</th>\n",
              "      <th>+1 (2013)</th>\n",
              "      <th>...All the Marbles (California Dolls, The) (1981)</th>\n",
              "      <th>...And God Spoke (1993)</th>\n",
              "      <th>...And Justice for All (1979)</th>\n",
              "      <th>.45 (2006)</th>\n",
              "      <th>009 Re: Cyborg (2012)</th>\n",
              "      <th>1, 2, 3, Sun (Un, deuz, trois, soleil) (1993)</th>\n",
              "      <th>1-900 (06) (1994)</th>\n",
              "      <th>10 (1979)</th>\n",
              "      <th>10 Items or Less (2006)</th>\n",
              "      <th>10 Questions for the Dalai Lama (2006)</th>\n",
              "      <th>10 Rillington Place (1971)</th>\n",
              "      <th>10 Things I Hate About You (1999)</th>\n",
              "      <th>10 Years (2011)</th>\n",
              "      <th>10 to Midnight (1983)</th>\n",
              "      <th>10,000 BC (2008)</th>\n",
              "      <th>10.000 Km (Long Distance) (2014)</th>\n",
              "      <th>100 Feet (2008)</th>\n",
              "      <th>100 Girls (2000)</th>\n",
              "      <th>100 Men and a Girl (One Hundred Men and a Girl) (1937)</th>\n",
              "      <th>100 Rifles (1969)</th>\n",
              "      <th>1000 Eyes of Dr. Mabuse, The (Die 1000 Augen des Dr. Mabuse) (1960)</th>\n",
              "      <th>101 Dalmatians (1996)</th>\n",
              "      <th>101 Dalmatians (One Hundred and One Dalmatians) (1961)</th>\n",
              "      <th>101 Dalmatians II: Patch's London Adventure (2003)</th>\n",
              "      <th>...</th>\n",
              "      <th>Zombie Island Massacre (1984)</th>\n",
              "      <th>Zombie Lake (Lac des morts vivants, Le) (Zombies Lake) (Lake of the Living Dead, The) (1981)</th>\n",
              "      <th>Zombie Strippers! (2008)</th>\n",
              "      <th>Zombie and the Ghost Train (Zombie ja Kummitusjuna) (1991)</th>\n",
              "      <th>Zombieland (2009)</th>\n",
              "      <th>Zona Zamfirova (2002)</th>\n",
              "      <th>Zone 39 (1997)</th>\n",
              "      <th>Zone Troopers (1985)</th>\n",
              "      <th>Zone, The (La Zona) (2007)</th>\n",
              "      <th>Zoo (2007)</th>\n",
              "      <th>Zoo in Budapest (1933)</th>\n",
              "      <th>Zookeeper (2011)</th>\n",
              "      <th>Zoolander (2001)</th>\n",
              "      <th>Zoom (2006)</th>\n",
              "      <th>Zoot Suit (1981)</th>\n",
              "      <th>Zorba the Greek (Alexis Zorbas) (1964)</th>\n",
              "      <th>Zorn's Lemma (1970)</th>\n",
              "      <th>Zorro (1975)</th>\n",
              "      <th>Zorro, the Gay Blade (1981)</th>\n",
              "      <th>Zotz! (1962)</th>\n",
              "      <th>Zozo (2005)</th>\n",
              "      <th>Zu: Warriors from the Magic Mountain (Xin shu shan jian ke) (1983)</th>\n",
              "      <th>Zulu (1964)</th>\n",
              "      <th>Zulu Dawn (1979)</th>\n",
              "      <th>Zus &amp; Zo (2001)</th>\n",
              "      <th>Zuzu Angel (2006)</th>\n",
              "      <th>[REC] (2007)</th>\n",
              "      <th>[REC] 4: Apocalypse (2014)</th>\n",
              "      <th>[REC]² (2009)</th>\n",
              "      <th>[REC]³ 3 Génesis (2012)</th>\n",
              "      <th>\\\\\"Great Performances\\\"\\\" Cats (1998)\"</th>\n",
              "      <th>a/k/a Tommy Chong (2005)</th>\n",
              "      <th>eXistenZ (1999)</th>\n",
              "      <th>loudQUIETloud: A Film About the Pixies (2006)</th>\n",
              "      <th>xXx (2002)</th>\n",
              "      <th>xXx: State of the Union (2005)</th>\n",
              "      <th>¡Three Amigos! (1986)</th>\n",
              "      <th>À l'aventure (2008)</th>\n",
              "      <th>À nos amours (1983)</th>\n",
              "      <th>À nous la liberté (Freedom for Us) (1931)</th>\n",
              "    </tr>\n",
              "    <tr>\n",
              "      <th>userId</th>\n",
              "      <th></th>\n",
              "      <th></th>\n",
              "      <th></th>\n",
              "      <th></th>\n",
              "      <th></th>\n",
              "      <th></th>\n",
              "      <th></th>\n",
              "      <th></th>\n",
              "      <th></th>\n",
              "      <th></th>\n",
              "      <th></th>\n",
              "      <th></th>\n",
              "      <th></th>\n",
              "      <th></th>\n",
              "      <th></th>\n",
              "      <th></th>\n",
              "      <th></th>\n",
              "      <th></th>\n",
              "      <th></th>\n",
              "      <th></th>\n",
              "      <th></th>\n",
              "      <th></th>\n",
              "      <th></th>\n",
              "      <th></th>\n",
              "      <th></th>\n",
              "      <th></th>\n",
              "      <th></th>\n",
              "      <th></th>\n",
              "      <th></th>\n",
              "      <th></th>\n",
              "      <th></th>\n",
              "      <th></th>\n",
              "      <th></th>\n",
              "      <th></th>\n",
              "      <th></th>\n",
              "      <th></th>\n",
              "      <th></th>\n",
              "      <th></th>\n",
              "      <th></th>\n",
              "      <th></th>\n",
              "      <th></th>\n",
              "      <th></th>\n",
              "      <th></th>\n",
              "      <th></th>\n",
              "      <th></th>\n",
              "      <th></th>\n",
              "      <th></th>\n",
              "      <th></th>\n",
              "      <th></th>\n",
              "      <th></th>\n",
              "      <th></th>\n",
              "      <th></th>\n",
              "      <th></th>\n",
              "      <th></th>\n",
              "      <th></th>\n",
              "      <th></th>\n",
              "      <th></th>\n",
              "      <th></th>\n",
              "      <th></th>\n",
              "      <th></th>\n",
              "      <th></th>\n",
              "      <th></th>\n",
              "      <th></th>\n",
              "      <th></th>\n",
              "      <th></th>\n",
              "      <th></th>\n",
              "      <th></th>\n",
              "      <th></th>\n",
              "      <th></th>\n",
              "      <th></th>\n",
              "      <th></th>\n",
              "      <th></th>\n",
              "      <th></th>\n",
              "      <th></th>\n",
              "      <th></th>\n",
              "      <th></th>\n",
              "      <th></th>\n",
              "      <th></th>\n",
              "      <th></th>\n",
              "      <th></th>\n",
              "      <th></th>\n",
              "    </tr>\n",
              "  </thead>\n",
              "  <tbody>\n",
              "    <tr>\n",
              "      <th>1</th>\n",
              "      <td>NaN</td>\n",
              "      <td>NaN</td>\n",
              "      <td>NaN</td>\n",
              "      <td>NaN</td>\n",
              "      <td>NaN</td>\n",
              "      <td>NaN</td>\n",
              "      <td>NaN</td>\n",
              "      <td>NaN</td>\n",
              "      <td>NaN</td>\n",
              "      <td>NaN</td>\n",
              "      <td>NaN</td>\n",
              "      <td>NaN</td>\n",
              "      <td>NaN</td>\n",
              "      <td>NaN</td>\n",
              "      <td>NaN</td>\n",
              "      <td>NaN</td>\n",
              "      <td>NaN</td>\n",
              "      <td>NaN</td>\n",
              "      <td>NaN</td>\n",
              "      <td>NaN</td>\n",
              "      <td>NaN</td>\n",
              "      <td>NaN</td>\n",
              "      <td>NaN</td>\n",
              "      <td>NaN</td>\n",
              "      <td>NaN</td>\n",
              "      <td>NaN</td>\n",
              "      <td>NaN</td>\n",
              "      <td>NaN</td>\n",
              "      <td>NaN</td>\n",
              "      <td>NaN</td>\n",
              "      <td>NaN</td>\n",
              "      <td>NaN</td>\n",
              "      <td>NaN</td>\n",
              "      <td>NaN</td>\n",
              "      <td>NaN</td>\n",
              "      <td>NaN</td>\n",
              "      <td>NaN</td>\n",
              "      <td>NaN</td>\n",
              "      <td>NaN</td>\n",
              "      <td>NaN</td>\n",
              "      <td>...</td>\n",
              "      <td>NaN</td>\n",
              "      <td>NaN</td>\n",
              "      <td>NaN</td>\n",
              "      <td>NaN</td>\n",
              "      <td>NaN</td>\n",
              "      <td>NaN</td>\n",
              "      <td>NaN</td>\n",
              "      <td>NaN</td>\n",
              "      <td>NaN</td>\n",
              "      <td>NaN</td>\n",
              "      <td>NaN</td>\n",
              "      <td>NaN</td>\n",
              "      <td>NaN</td>\n",
              "      <td>NaN</td>\n",
              "      <td>NaN</td>\n",
              "      <td>NaN</td>\n",
              "      <td>NaN</td>\n",
              "      <td>NaN</td>\n",
              "      <td>NaN</td>\n",
              "      <td>NaN</td>\n",
              "      <td>NaN</td>\n",
              "      <td>NaN</td>\n",
              "      <td>NaN</td>\n",
              "      <td>NaN</td>\n",
              "      <td>NaN</td>\n",
              "      <td>NaN</td>\n",
              "      <td>NaN</td>\n",
              "      <td>NaN</td>\n",
              "      <td>NaN</td>\n",
              "      <td>NaN</td>\n",
              "      <td>NaN</td>\n",
              "      <td>NaN</td>\n",
              "      <td>NaN</td>\n",
              "      <td>NaN</td>\n",
              "      <td>NaN</td>\n",
              "      <td>NaN</td>\n",
              "      <td>NaN</td>\n",
              "      <td>NaN</td>\n",
              "      <td>NaN</td>\n",
              "      <td>NaN</td>\n",
              "    </tr>\n",
              "    <tr>\n",
              "      <th>2</th>\n",
              "      <td>NaN</td>\n",
              "      <td>NaN</td>\n",
              "      <td>NaN</td>\n",
              "      <td>NaN</td>\n",
              "      <td>NaN</td>\n",
              "      <td>NaN</td>\n",
              "      <td>NaN</td>\n",
              "      <td>NaN</td>\n",
              "      <td>NaN</td>\n",
              "      <td>NaN</td>\n",
              "      <td>NaN</td>\n",
              "      <td>NaN</td>\n",
              "      <td>NaN</td>\n",
              "      <td>NaN</td>\n",
              "      <td>NaN</td>\n",
              "      <td>NaN</td>\n",
              "      <td>NaN</td>\n",
              "      <td>NaN</td>\n",
              "      <td>NaN</td>\n",
              "      <td>NaN</td>\n",
              "      <td>NaN</td>\n",
              "      <td>NaN</td>\n",
              "      <td>NaN</td>\n",
              "      <td>NaN</td>\n",
              "      <td>NaN</td>\n",
              "      <td>NaN</td>\n",
              "      <td>NaN</td>\n",
              "      <td>NaN</td>\n",
              "      <td>NaN</td>\n",
              "      <td>NaN</td>\n",
              "      <td>NaN</td>\n",
              "      <td>NaN</td>\n",
              "      <td>NaN</td>\n",
              "      <td>NaN</td>\n",
              "      <td>NaN</td>\n",
              "      <td>NaN</td>\n",
              "      <td>NaN</td>\n",
              "      <td>NaN</td>\n",
              "      <td>NaN</td>\n",
              "      <td>NaN</td>\n",
              "      <td>...</td>\n",
              "      <td>NaN</td>\n",
              "      <td>NaN</td>\n",
              "      <td>NaN</td>\n",
              "      <td>NaN</td>\n",
              "      <td>NaN</td>\n",
              "      <td>NaN</td>\n",
              "      <td>NaN</td>\n",
              "      <td>NaN</td>\n",
              "      <td>NaN</td>\n",
              "      <td>NaN</td>\n",
              "      <td>NaN</td>\n",
              "      <td>NaN</td>\n",
              "      <td>NaN</td>\n",
              "      <td>NaN</td>\n",
              "      <td>NaN</td>\n",
              "      <td>NaN</td>\n",
              "      <td>NaN</td>\n",
              "      <td>NaN</td>\n",
              "      <td>NaN</td>\n",
              "      <td>NaN</td>\n",
              "      <td>NaN</td>\n",
              "      <td>NaN</td>\n",
              "      <td>NaN</td>\n",
              "      <td>NaN</td>\n",
              "      <td>NaN</td>\n",
              "      <td>NaN</td>\n",
              "      <td>NaN</td>\n",
              "      <td>NaN</td>\n",
              "      <td>NaN</td>\n",
              "      <td>NaN</td>\n",
              "      <td>NaN</td>\n",
              "      <td>NaN</td>\n",
              "      <td>NaN</td>\n",
              "      <td>NaN</td>\n",
              "      <td>NaN</td>\n",
              "      <td>NaN</td>\n",
              "      <td>NaN</td>\n",
              "      <td>NaN</td>\n",
              "      <td>NaN</td>\n",
              "      <td>NaN</td>\n",
              "    </tr>\n",
              "    <tr>\n",
              "      <th>3</th>\n",
              "      <td>NaN</td>\n",
              "      <td>NaN</td>\n",
              "      <td>NaN</td>\n",
              "      <td>NaN</td>\n",
              "      <td>NaN</td>\n",
              "      <td>NaN</td>\n",
              "      <td>NaN</td>\n",
              "      <td>NaN</td>\n",
              "      <td>NaN</td>\n",
              "      <td>NaN</td>\n",
              "      <td>NaN</td>\n",
              "      <td>NaN</td>\n",
              "      <td>NaN</td>\n",
              "      <td>NaN</td>\n",
              "      <td>NaN</td>\n",
              "      <td>NaN</td>\n",
              "      <td>NaN</td>\n",
              "      <td>NaN</td>\n",
              "      <td>NaN</td>\n",
              "      <td>NaN</td>\n",
              "      <td>NaN</td>\n",
              "      <td>NaN</td>\n",
              "      <td>NaN</td>\n",
              "      <td>NaN</td>\n",
              "      <td>NaN</td>\n",
              "      <td>NaN</td>\n",
              "      <td>NaN</td>\n",
              "      <td>NaN</td>\n",
              "      <td>NaN</td>\n",
              "      <td>NaN</td>\n",
              "      <td>NaN</td>\n",
              "      <td>NaN</td>\n",
              "      <td>NaN</td>\n",
              "      <td>NaN</td>\n",
              "      <td>NaN</td>\n",
              "      <td>NaN</td>\n",
              "      <td>NaN</td>\n",
              "      <td>NaN</td>\n",
              "      <td>NaN</td>\n",
              "      <td>NaN</td>\n",
              "      <td>...</td>\n",
              "      <td>NaN</td>\n",
              "      <td>NaN</td>\n",
              "      <td>NaN</td>\n",
              "      <td>NaN</td>\n",
              "      <td>NaN</td>\n",
              "      <td>NaN</td>\n",
              "      <td>NaN</td>\n",
              "      <td>NaN</td>\n",
              "      <td>NaN</td>\n",
              "      <td>NaN</td>\n",
              "      <td>NaN</td>\n",
              "      <td>NaN</td>\n",
              "      <td>NaN</td>\n",
              "      <td>NaN</td>\n",
              "      <td>NaN</td>\n",
              "      <td>NaN</td>\n",
              "      <td>NaN</td>\n",
              "      <td>NaN</td>\n",
              "      <td>NaN</td>\n",
              "      <td>NaN</td>\n",
              "      <td>NaN</td>\n",
              "      <td>NaN</td>\n",
              "      <td>NaN</td>\n",
              "      <td>NaN</td>\n",
              "      <td>NaN</td>\n",
              "      <td>NaN</td>\n",
              "      <td>NaN</td>\n",
              "      <td>NaN</td>\n",
              "      <td>NaN</td>\n",
              "      <td>NaN</td>\n",
              "      <td>NaN</td>\n",
              "      <td>NaN</td>\n",
              "      <td>NaN</td>\n",
              "      <td>NaN</td>\n",
              "      <td>NaN</td>\n",
              "      <td>NaN</td>\n",
              "      <td>NaN</td>\n",
              "      <td>NaN</td>\n",
              "      <td>NaN</td>\n",
              "      <td>NaN</td>\n",
              "    </tr>\n",
              "    <tr>\n",
              "      <th>4</th>\n",
              "      <td>NaN</td>\n",
              "      <td>NaN</td>\n",
              "      <td>NaN</td>\n",
              "      <td>NaN</td>\n",
              "      <td>NaN</td>\n",
              "      <td>NaN</td>\n",
              "      <td>NaN</td>\n",
              "      <td>NaN</td>\n",
              "      <td>NaN</td>\n",
              "      <td>NaN</td>\n",
              "      <td>NaN</td>\n",
              "      <td>NaN</td>\n",
              "      <td>NaN</td>\n",
              "      <td>NaN</td>\n",
              "      <td>NaN</td>\n",
              "      <td>NaN</td>\n",
              "      <td>NaN</td>\n",
              "      <td>NaN</td>\n",
              "      <td>NaN</td>\n",
              "      <td>NaN</td>\n",
              "      <td>NaN</td>\n",
              "      <td>NaN</td>\n",
              "      <td>NaN</td>\n",
              "      <td>NaN</td>\n",
              "      <td>NaN</td>\n",
              "      <td>NaN</td>\n",
              "      <td>NaN</td>\n",
              "      <td>NaN</td>\n",
              "      <td>NaN</td>\n",
              "      <td>NaN</td>\n",
              "      <td>NaN</td>\n",
              "      <td>NaN</td>\n",
              "      <td>NaN</td>\n",
              "      <td>NaN</td>\n",
              "      <td>NaN</td>\n",
              "      <td>NaN</td>\n",
              "      <td>NaN</td>\n",
              "      <td>NaN</td>\n",
              "      <td>NaN</td>\n",
              "      <td>NaN</td>\n",
              "      <td>...</td>\n",
              "      <td>NaN</td>\n",
              "      <td>NaN</td>\n",
              "      <td>NaN</td>\n",
              "      <td>NaN</td>\n",
              "      <td>NaN</td>\n",
              "      <td>NaN</td>\n",
              "      <td>NaN</td>\n",
              "      <td>NaN</td>\n",
              "      <td>NaN</td>\n",
              "      <td>NaN</td>\n",
              "      <td>NaN</td>\n",
              "      <td>NaN</td>\n",
              "      <td>NaN</td>\n",
              "      <td>NaN</td>\n",
              "      <td>NaN</td>\n",
              "      <td>NaN</td>\n",
              "      <td>NaN</td>\n",
              "      <td>NaN</td>\n",
              "      <td>NaN</td>\n",
              "      <td>NaN</td>\n",
              "      <td>NaN</td>\n",
              "      <td>NaN</td>\n",
              "      <td>NaN</td>\n",
              "      <td>NaN</td>\n",
              "      <td>NaN</td>\n",
              "      <td>NaN</td>\n",
              "      <td>NaN</td>\n",
              "      <td>NaN</td>\n",
              "      <td>NaN</td>\n",
              "      <td>NaN</td>\n",
              "      <td>NaN</td>\n",
              "      <td>NaN</td>\n",
              "      <td>NaN</td>\n",
              "      <td>NaN</td>\n",
              "      <td>NaN</td>\n",
              "      <td>NaN</td>\n",
              "      <td>NaN</td>\n",
              "      <td>NaN</td>\n",
              "      <td>NaN</td>\n",
              "      <td>NaN</td>\n",
              "    </tr>\n",
              "    <tr>\n",
              "      <th>5</th>\n",
              "      <td>NaN</td>\n",
              "      <td>NaN</td>\n",
              "      <td>NaN</td>\n",
              "      <td>NaN</td>\n",
              "      <td>NaN</td>\n",
              "      <td>NaN</td>\n",
              "      <td>NaN</td>\n",
              "      <td>NaN</td>\n",
              "      <td>NaN</td>\n",
              "      <td>NaN</td>\n",
              "      <td>NaN</td>\n",
              "      <td>NaN</td>\n",
              "      <td>NaN</td>\n",
              "      <td>NaN</td>\n",
              "      <td>NaN</td>\n",
              "      <td>NaN</td>\n",
              "      <td>NaN</td>\n",
              "      <td>NaN</td>\n",
              "      <td>NaN</td>\n",
              "      <td>NaN</td>\n",
              "      <td>NaN</td>\n",
              "      <td>NaN</td>\n",
              "      <td>NaN</td>\n",
              "      <td>NaN</td>\n",
              "      <td>NaN</td>\n",
              "      <td>NaN</td>\n",
              "      <td>NaN</td>\n",
              "      <td>NaN</td>\n",
              "      <td>NaN</td>\n",
              "      <td>NaN</td>\n",
              "      <td>NaN</td>\n",
              "      <td>NaN</td>\n",
              "      <td>NaN</td>\n",
              "      <td>NaN</td>\n",
              "      <td>NaN</td>\n",
              "      <td>NaN</td>\n",
              "      <td>NaN</td>\n",
              "      <td>NaN</td>\n",
              "      <td>NaN</td>\n",
              "      <td>NaN</td>\n",
              "      <td>...</td>\n",
              "      <td>NaN</td>\n",
              "      <td>NaN</td>\n",
              "      <td>NaN</td>\n",
              "      <td>NaN</td>\n",
              "      <td>NaN</td>\n",
              "      <td>NaN</td>\n",
              "      <td>NaN</td>\n",
              "      <td>NaN</td>\n",
              "      <td>NaN</td>\n",
              "      <td>NaN</td>\n",
              "      <td>NaN</td>\n",
              "      <td>NaN</td>\n",
              "      <td>NaN</td>\n",
              "      <td>NaN</td>\n",
              "      <td>NaN</td>\n",
              "      <td>NaN</td>\n",
              "      <td>NaN</td>\n",
              "      <td>NaN</td>\n",
              "      <td>NaN</td>\n",
              "      <td>NaN</td>\n",
              "      <td>NaN</td>\n",
              "      <td>NaN</td>\n",
              "      <td>NaN</td>\n",
              "      <td>NaN</td>\n",
              "      <td>NaN</td>\n",
              "      <td>NaN</td>\n",
              "      <td>NaN</td>\n",
              "      <td>NaN</td>\n",
              "      <td>NaN</td>\n",
              "      <td>NaN</td>\n",
              "      <td>NaN</td>\n",
              "      <td>NaN</td>\n",
              "      <td>NaN</td>\n",
              "      <td>NaN</td>\n",
              "      <td>NaN</td>\n",
              "      <td>NaN</td>\n",
              "      <td>NaN</td>\n",
              "      <td>NaN</td>\n",
              "      <td>NaN</td>\n",
              "      <td>NaN</td>\n",
              "    </tr>\n",
              "  </tbody>\n",
              "</table>\n",
              "<p>5 rows × 18753 columns</p>\n",
              "</div>"
            ],
            "text/plain": [
              "title   $ (Dollars) (1971)  ...  À nous la liberté (Freedom for Us) (1931)\n",
              "userId                      ...                                           \n",
              "1                      NaN  ...                                        NaN\n",
              "2                      NaN  ...                                        NaN\n",
              "3                      NaN  ...                                        NaN\n",
              "4                      NaN  ...                                        NaN\n",
              "5                      NaN  ...                                        NaN\n",
              "\n",
              "[5 rows x 18753 columns]"
            ]
          },
          "metadata": {
            "tags": []
          },
          "execution_count": 83
        }
      ]
    },
    {
      "cell_type": "markdown",
      "metadata": {
        "id": "khh3VsdoKjxL"
      },
      "source": [
        "Sorting ratings data frame based on number of ratings"
      ]
    },
    {
      "cell_type": "code",
      "metadata": {
        "id": "th2W_toCTgdh",
        "outputId": "05291b32-c685-4bcc-9b20-06ea83ed5fd6",
        "colab": {
          "base_uri": "https://localhost:8080/",
          "height": 390
        }
      },
      "source": [
        "ratings.sort_values('no. of ratings', ascending=False).head(10)"
      ],
      "execution_count": null,
      "outputs": [
        {
          "output_type": "execute_result",
          "data": {
            "text/html": [
              "<div>\n",
              "<style scoped>\n",
              "    .dataframe tbody tr th:only-of-type {\n",
              "        vertical-align: middle;\n",
              "    }\n",
              "\n",
              "    .dataframe tbody tr th {\n",
              "        vertical-align: top;\n",
              "    }\n",
              "\n",
              "    .dataframe thead th {\n",
              "        text-align: right;\n",
              "    }\n",
              "</style>\n",
              "<table border=\"1\" class=\"dataframe\">\n",
              "  <thead>\n",
              "    <tr style=\"text-align: right;\">\n",
              "      <th></th>\n",
              "      <th>rating</th>\n",
              "      <th>no. of ratings</th>\n",
              "    </tr>\n",
              "    <tr>\n",
              "      <th>title</th>\n",
              "      <th></th>\n",
              "      <th></th>\n",
              "    </tr>\n",
              "  </thead>\n",
              "  <tbody>\n",
              "    <tr>\n",
              "      <th>Pulp Fiction (1994)</th>\n",
              "      <td>4.161869</td>\n",
              "      <td>12090</td>\n",
              "    </tr>\n",
              "    <tr>\n",
              "      <th>Forrest Gump (1994)</th>\n",
              "      <td>4.036192</td>\n",
              "      <td>11950</td>\n",
              "    </tr>\n",
              "    <tr>\n",
              "      <th>Shawshank Redemption, The (1994)</th>\n",
              "      <td>4.449349</td>\n",
              "      <td>11372</td>\n",
              "    </tr>\n",
              "    <tr>\n",
              "      <th>Silence of the Lambs, The (1991)</th>\n",
              "      <td>4.178812</td>\n",
              "      <td>11294</td>\n",
              "    </tr>\n",
              "    <tr>\n",
              "      <th>Jurassic Park (1993)</th>\n",
              "      <td>3.668589</td>\n",
              "      <td>10751</td>\n",
              "    </tr>\n",
              "    <tr>\n",
              "      <th>Star Wars: Episode IV - A New Hope (1977)</th>\n",
              "      <td>4.183605</td>\n",
              "      <td>9869</td>\n",
              "    </tr>\n",
              "    <tr>\n",
              "      <th>Braveheart (1995)</th>\n",
              "      <td>4.039205</td>\n",
              "      <td>9616</td>\n",
              "    </tr>\n",
              "    <tr>\n",
              "      <th>Terminator 2: Judgment Day (1991)</th>\n",
              "      <td>3.937084</td>\n",
              "      <td>9457</td>\n",
              "    </tr>\n",
              "    <tr>\n",
              "      <th>Matrix, The (1999)</th>\n",
              "      <td>4.172734</td>\n",
              "      <td>9312</td>\n",
              "    </tr>\n",
              "    <tr>\n",
              "      <th>Schindler's List (1993)</th>\n",
              "      <td>4.300801</td>\n",
              "      <td>9114</td>\n",
              "    </tr>\n",
              "  </tbody>\n",
              "</table>\n",
              "</div>"
            ],
            "text/plain": [
              "                                             rating  no. of ratings\n",
              "title                                                              \n",
              "Pulp Fiction (1994)                        4.161869           12090\n",
              "Forrest Gump (1994)                        4.036192           11950\n",
              "Shawshank Redemption, The (1994)           4.449349           11372\n",
              "Silence of the Lambs, The (1991)           4.178812           11294\n",
              "Jurassic Park (1993)                       3.668589           10751\n",
              "Star Wars: Episode IV - A New Hope (1977)  4.183605            9869\n",
              "Braveheart (1995)                          4.039205            9616\n",
              "Terminator 2: Judgment Day (1991)          3.937084            9457\n",
              "Matrix, The (1999)                         4.172734            9312\n",
              "Schindler's List (1993)                    4.300801            9114"
            ]
          },
          "metadata": {
            "tags": []
          },
          "execution_count": 84
        }
      ]
    },
    {
      "cell_type": "markdown",
      "metadata": {
        "id": "J3bvPGnIUB4y"
      },
      "source": [
        "Asking user for their favourite movie\n"
      ]
    },
    {
      "cell_type": "code",
      "metadata": {
        "id": "xrxmKbi-UHE6",
        "outputId": "aafb50e6-56be-44ab-cc20-7515795fb8c5",
        "colab": {
          "base_uri": "https://localhost:8080/",
          "height": 408
        }
      },
      "source": [
        "favourite_movie=input('choose a movie that you like')\n",
        "favourite_movie_rating=movie_matrix[favourite_movie]\n",
        "favourite_movie_rating.head(20)"
      ],
      "execution_count": null,
      "outputs": [
        {
          "output_type": "stream",
          "text": [
            "choose a movie that you likeJurassic Park (1993)\n"
          ],
          "name": "stdout"
        },
        {
          "output_type": "execute_result",
          "data": {
            "text/plain": [
              "userId\n",
              "1     NaN\n",
              "2     5.0\n",
              "3     5.0\n",
              "4     4.0\n",
              "5     4.0\n",
              "6     NaN\n",
              "7     5.0\n",
              "8     4.0\n",
              "9     NaN\n",
              "10    NaN\n",
              "11    5.0\n",
              "12    3.0\n",
              "13    3.0\n",
              "14    4.0\n",
              "15    3.0\n",
              "16    NaN\n",
              "17    3.0\n",
              "18    1.5\n",
              "19    NaN\n",
              "20    NaN\n",
              "Name: Jurassic Park (1993), dtype: float64"
            ]
          },
          "metadata": {
            "tags": []
          },
          "execution_count": 85
        }
      ]
    },
    {
      "cell_type": "markdown",
      "metadata": {
        "id": "QtwDzbYpVEpU"
      },
      "source": [
        "Using corrwith() method to get correlations between movie matrix and users favourite movie\n"
      ]
    },
    {
      "cell_type": "code",
      "metadata": {
        "id": "yyvDbl8kVPSE",
        "outputId": "decd59ff-394e-48b9-c6ae-10d090ddf0e1",
        "colab": {
          "base_uri": "https://localhost:8080/",
          "height": 85
        }
      },
      "source": [
        "similar_to_favourite_movie=movie_matrix.corrwith(favourite_movie_rating)\n"
      ],
      "execution_count": null,
      "outputs": [
        {
          "output_type": "stream",
          "text": [
            "/usr/local/lib/python3.6/dist-packages/numpy/lib/function_base.py:2526: RuntimeWarning: Degrees of freedom <= 0 for slice\n",
            "  c = cov(x, y, rowvar)\n",
            "/usr/local/lib/python3.6/dist-packages/numpy/lib/function_base.py:2455: RuntimeWarning: divide by zero encountered in true_divide\n",
            "  c *= np.true_divide(1, fact)\n"
          ],
          "name": "stderr"
        }
      ]
    },
    {
      "cell_type": "markdown",
      "metadata": {
        "id": "shbrjIcsV0f9"
      },
      "source": [
        "Removing NaN values"
      ]
    },
    {
      "cell_type": "code",
      "metadata": {
        "id": "LTk0Cy4JV5Yt",
        "outputId": "4ede3012-815e-4915-eb60-4be2ae8cf0e3",
        "colab": {
          "base_uri": "https://localhost:8080/",
          "height": 235
        }
      },
      "source": [
        "corr_favourite_movie=pd.DataFrame(similar_to_favourite_movie,columns=['Correlation'])\n",
        "corr_favourite_movie.dropna(inplace=True)\n",
        "corr_favourite_movie.head()\n"
      ],
      "execution_count": null,
      "outputs": [
        {
          "output_type": "execute_result",
          "data": {
            "text/html": [
              "<div>\n",
              "<style scoped>\n",
              "    .dataframe tbody tr th:only-of-type {\n",
              "        vertical-align: middle;\n",
              "    }\n",
              "\n",
              "    .dataframe tbody tr th {\n",
              "        vertical-align: top;\n",
              "    }\n",
              "\n",
              "    .dataframe thead th {\n",
              "        text-align: right;\n",
              "    }\n",
              "</style>\n",
              "<table border=\"1\" class=\"dataframe\">\n",
              "  <thead>\n",
              "    <tr style=\"text-align: right;\">\n",
              "      <th></th>\n",
              "      <th>Correlation</th>\n",
              "    </tr>\n",
              "    <tr>\n",
              "      <th>title</th>\n",
              "      <th></th>\n",
              "    </tr>\n",
              "  </thead>\n",
              "  <tbody>\n",
              "    <tr>\n",
              "      <th>$5 a Day (2008)</th>\n",
              "      <td>-0.995871</td>\n",
              "    </tr>\n",
              "    <tr>\n",
              "      <th>'71 (2014)</th>\n",
              "      <td>-0.231714</td>\n",
              "    </tr>\n",
              "    <tr>\n",
              "      <th>'Hellboy': The Seeds of Creation (2004)</th>\n",
              "      <td>0.377778</td>\n",
              "    </tr>\n",
              "    <tr>\n",
              "      <th>'R Xmas (2001)</th>\n",
              "      <td>-0.527046</td>\n",
              "    </tr>\n",
              "    <tr>\n",
              "      <th>'Round Midnight (1986)</th>\n",
              "      <td>-0.130170</td>\n",
              "    </tr>\n",
              "  </tbody>\n",
              "</table>\n",
              "</div>"
            ],
            "text/plain": [
              "                                         Correlation\n",
              "title                                               \n",
              "$5 a Day (2008)                            -0.995871\n",
              "'71 (2014)                                 -0.231714\n",
              "'Hellboy': The Seeds of Creation (2004)     0.377778\n",
              "'R Xmas (2001)                             -0.527046\n",
              "'Round Midnight (1986)                     -0.130170"
            ]
          },
          "metadata": {
            "tags": []
          },
          "execution_count": 87
        }
      ]
    },
    {
      "cell_type": "markdown",
      "metadata": {
        "id": "xBYwZNt7WfEu"
      },
      "source": [
        "Sorting the dataframe by correlation to get most matching movie"
      ]
    },
    {
      "cell_type": "code",
      "metadata": {
        "id": "s-YUcJjBWoLQ",
        "outputId": "301221b6-b742-495f-eb9e-cc8fff8b999f",
        "colab": {
          "base_uri": "https://localhost:8080/",
          "height": 390
        }
      },
      "source": [
        "corr_favourite_movie.sort_values('Correlation',ascending=False).head(10)"
      ],
      "execution_count": null,
      "outputs": [
        {
          "output_type": "execute_result",
          "data": {
            "text/html": [
              "<div>\n",
              "<style scoped>\n",
              "    .dataframe tbody tr th:only-of-type {\n",
              "        vertical-align: middle;\n",
              "    }\n",
              "\n",
              "    .dataframe tbody tr th {\n",
              "        vertical-align: top;\n",
              "    }\n",
              "\n",
              "    .dataframe thead th {\n",
              "        text-align: right;\n",
              "    }\n",
              "</style>\n",
              "<table border=\"1\" class=\"dataframe\">\n",
              "  <thead>\n",
              "    <tr style=\"text-align: right;\">\n",
              "      <th></th>\n",
              "      <th>Correlation</th>\n",
              "    </tr>\n",
              "    <tr>\n",
              "      <th>title</th>\n",
              "      <th></th>\n",
              "    </tr>\n",
              "  </thead>\n",
              "  <tbody>\n",
              "    <tr>\n",
              "      <th>Queen Bee (1955)</th>\n",
              "      <td>1.0</td>\n",
              "    </tr>\n",
              "    <tr>\n",
              "      <th>Invisible Woman, The (2013)</th>\n",
              "      <td>1.0</td>\n",
              "    </tr>\n",
              "    <tr>\n",
              "      <th>Normal Adolescent Behavior (2007)</th>\n",
              "      <td>1.0</td>\n",
              "    </tr>\n",
              "    <tr>\n",
              "      <th>Norman (2010)</th>\n",
              "      <td>1.0</td>\n",
              "    </tr>\n",
              "    <tr>\n",
              "      <th>Woman in Love (Rubbeldiekatz) (2011)</th>\n",
              "      <td>1.0</td>\n",
              "    </tr>\n",
              "    <tr>\n",
              "      <th>Woman in the Moon (By Rocket to the Moon) (Frau im Mond) (1929)</th>\n",
              "      <td>1.0</td>\n",
              "    </tr>\n",
              "    <tr>\n",
              "      <th>Aerial, The (La antena) (2007)</th>\n",
              "      <td>1.0</td>\n",
              "    </tr>\n",
              "    <tr>\n",
              "      <th>Campfire Tales (1997)</th>\n",
              "      <td>1.0</td>\n",
              "    </tr>\n",
              "    <tr>\n",
              "      <th>Not of This Earth (1988)</th>\n",
              "      <td>1.0</td>\n",
              "    </tr>\n",
              "    <tr>\n",
              "      <th>Roadie (1980)</th>\n",
              "      <td>1.0</td>\n",
              "    </tr>\n",
              "  </tbody>\n",
              "</table>\n",
              "</div>"
            ],
            "text/plain": [
              "                                                    Correlation\n",
              "title                                                          \n",
              "Queen Bee (1955)                                            1.0\n",
              "Invisible Woman, The (2013)                                 1.0\n",
              "Normal Adolescent Behavior (2007)                           1.0\n",
              "Norman (2010)                                               1.0\n",
              "Woman in Love (Rubbeldiekatz) (2011)                        1.0\n",
              "Woman in the Moon (By Rocket to the Moon) (Frau...          1.0\n",
              "Aerial, The (La antena) (2007)                              1.0\n",
              "Campfire Tales (1997)                                       1.0\n",
              "Not of This Earth (1988)                                    1.0\n",
              "Roadie (1980)                                               1.0"
            ]
          },
          "metadata": {
            "tags": []
          },
          "execution_count": 88
        }
      ]
    },
    {
      "cell_type": "markdown",
      "metadata": {
        "id": "MlBgXx4_XgZ7"
      },
      "source": [
        "Filtering out movies that have less than 100 reviews"
      ]
    },
    {
      "cell_type": "code",
      "metadata": {
        "id": "2_6g0Lu3Xu0W",
        "outputId": "1e8fbe98-051a-4b45-8019-48e299e96d3c",
        "colab": {
          "base_uri": "https://localhost:8080/",
          "height": 235
        }
      },
      "source": [
        "#correlation+no of ratings\n",
        "corr_favourite_movie=corr_favourite_movie.join(ratings['no. of ratings'])\n",
        "corr_favourite_movie.head()"
      ],
      "execution_count": null,
      "outputs": [
        {
          "output_type": "execute_result",
          "data": {
            "text/html": [
              "<div>\n",
              "<style scoped>\n",
              "    .dataframe tbody tr th:only-of-type {\n",
              "        vertical-align: middle;\n",
              "    }\n",
              "\n",
              "    .dataframe tbody tr th {\n",
              "        vertical-align: top;\n",
              "    }\n",
              "\n",
              "    .dataframe thead th {\n",
              "        text-align: right;\n",
              "    }\n",
              "</style>\n",
              "<table border=\"1\" class=\"dataframe\">\n",
              "  <thead>\n",
              "    <tr style=\"text-align: right;\">\n",
              "      <th></th>\n",
              "      <th>Correlation</th>\n",
              "      <th>no. of ratings</th>\n",
              "    </tr>\n",
              "    <tr>\n",
              "      <th>title</th>\n",
              "      <th></th>\n",
              "      <th></th>\n",
              "    </tr>\n",
              "  </thead>\n",
              "  <tbody>\n",
              "    <tr>\n",
              "      <th>$5 a Day (2008)</th>\n",
              "      <td>-0.995871</td>\n",
              "      <td>13</td>\n",
              "    </tr>\n",
              "    <tr>\n",
              "      <th>'71 (2014)</th>\n",
              "      <td>-0.231714</td>\n",
              "      <td>9</td>\n",
              "    </tr>\n",
              "    <tr>\n",
              "      <th>'Hellboy': The Seeds of Creation (2004)</th>\n",
              "      <td>0.377778</td>\n",
              "      <td>12</td>\n",
              "    </tr>\n",
              "    <tr>\n",
              "      <th>'R Xmas (2001)</th>\n",
              "      <td>-0.527046</td>\n",
              "      <td>7</td>\n",
              "    </tr>\n",
              "    <tr>\n",
              "      <th>'Round Midnight (1986)</th>\n",
              "      <td>-0.130170</td>\n",
              "      <td>29</td>\n",
              "    </tr>\n",
              "  </tbody>\n",
              "</table>\n",
              "</div>"
            ],
            "text/plain": [
              "                                         Correlation  no. of ratings\n",
              "title                                                               \n",
              "$5 a Day (2008)                            -0.995871              13\n",
              "'71 (2014)                                 -0.231714               9\n",
              "'Hellboy': The Seeds of Creation (2004)     0.377778              12\n",
              "'R Xmas (2001)                             -0.527046               7\n",
              "'Round Midnight (1986)                     -0.130170              29"
            ]
          },
          "metadata": {
            "tags": []
          },
          "execution_count": 89
        }
      ]
    },
    {
      "cell_type": "code",
      "metadata": {
        "id": "Yn5AEb6LYKF3",
        "outputId": "d7d322ab-d242-4bb6-e803-c9948fb80886",
        "colab": {
          "base_uri": "https://localhost:8080/",
          "height": 235
        }
      },
      "source": [
        "#sort\n",
        "corr_favourite_movie[corr_favourite_movie['no. of ratings']>100].sort_values('Correlation',ascending=False).head()"
      ],
      "execution_count": null,
      "outputs": [
        {
          "output_type": "execute_result",
          "data": {
            "text/html": [
              "<div>\n",
              "<style scoped>\n",
              "    .dataframe tbody tr th:only-of-type {\n",
              "        vertical-align: middle;\n",
              "    }\n",
              "\n",
              "    .dataframe tbody tr th {\n",
              "        vertical-align: top;\n",
              "    }\n",
              "\n",
              "    .dataframe thead th {\n",
              "        text-align: right;\n",
              "    }\n",
              "</style>\n",
              "<table border=\"1\" class=\"dataframe\">\n",
              "  <thead>\n",
              "    <tr style=\"text-align: right;\">\n",
              "      <th></th>\n",
              "      <th>Correlation</th>\n",
              "      <th>no. of ratings</th>\n",
              "    </tr>\n",
              "    <tr>\n",
              "      <th>title</th>\n",
              "      <th></th>\n",
              "      <th></th>\n",
              "    </tr>\n",
              "  </thead>\n",
              "  <tbody>\n",
              "    <tr>\n",
              "      <th>Jurassic Park (1993)</th>\n",
              "      <td>1.000000</td>\n",
              "      <td>10751</td>\n",
              "    </tr>\n",
              "    <tr>\n",
              "      <th>Lost World: Jurassic Park, The (1997)</th>\n",
              "      <td>0.549319</td>\n",
              "      <td>2697</td>\n",
              "    </tr>\n",
              "    <tr>\n",
              "      <th>Airport '77 (1977)</th>\n",
              "      <td>0.489561</td>\n",
              "      <td>102</td>\n",
              "    </tr>\n",
              "    <tr>\n",
              "      <th>Independence Day (a.k.a. ID4) (1996)</th>\n",
              "      <td>0.482918</td>\n",
              "      <td>8451</td>\n",
              "    </tr>\n",
              "    <tr>\n",
              "      <th>Jurassic Park III (2001)</th>\n",
              "      <td>0.450541</td>\n",
              "      <td>1226</td>\n",
              "    </tr>\n",
              "  </tbody>\n",
              "</table>\n",
              "</div>"
            ],
            "text/plain": [
              "                                       Correlation  no. of ratings\n",
              "title                                                             \n",
              "Jurassic Park (1993)                      1.000000           10751\n",
              "Lost World: Jurassic Park, The (1997)     0.549319            2697\n",
              "Airport '77 (1977)                        0.489561             102\n",
              "Independence Day (a.k.a. ID4) (1996)      0.482918            8451\n",
              "Jurassic Park III (2001)                  0.450541            1226"
            ]
          },
          "metadata": {
            "tags": []
          },
          "execution_count": 90
        }
      ]
    }
  ]
}